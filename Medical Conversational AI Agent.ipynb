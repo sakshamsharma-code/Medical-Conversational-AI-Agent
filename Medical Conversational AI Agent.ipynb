{
  "cells": [
    {
      "cell_type": "markdown",
      "metadata": {
        "id": "K3yWWtQ8cC4i"
      },
      "source": [
        "# STEP 0: Install dependencies"
      ]
    },
    {
      "cell_type": "code",
      "execution_count": null,
      "metadata": {
        "id": "kSG-PPjuA24T"
      },
      "outputs": [],
      "source": [
        "# pip install -qU google-generativeai==0.8.5 google-ai-generativelanguage==0.6.15 langgraph langchain langchain-google-genai openai"
      ]
    },
    {
      "cell_type": "markdown",
      "metadata": {
        "id": "XvoFPl11cFhj"
      },
      "source": [
        "# STEP 1: Imports and secure API key input"
      ]
    },
    {
      "cell_type": "code",
      "execution_count": null,
      "metadata": {
        "id": "llCizvcFCqFc"
      },
      "outputs": [],
      "source": [
        "import os\n",
        "import getpass\n",
        "from langgraph.graph import StateGraph, END\n",
        "from langchain_google_genai import ChatGoogleGenerativeAI\n",
        "from langchain_core.messages import HumanMessage\n"
      ]
    },
    {
      "cell_type": "markdown",
      "metadata": {
        "id": "W28u20SxcIiH"
      },
      "source": [
        "\n",
        "# Secure Gemini API Key input"
      ]
    },
    {
      "cell_type": "code",
      "execution_count": null,
      "metadata": {
        "colab": {
          "base_uri": "https://localhost:8080/"
        },
        "id": "jP8h2Q4YEyQW",
        "outputId": "2119239a-3fcc-472f-83a1-67b4affce892"
      },
      "outputs": [],
      "source": [
        "os.environ['GOOGLE_API_KEY'] = getpass.getpass(\"Enter the Gemini API Key\")"
      ]
    },
    {
      "cell_type": "markdown",
      "metadata": {
        "id": "eusINPuVcLXp"
      },
      "source": [
        "# STEP 2: Initialize Gemini 1.5 Flash"
      ]
    },
    {
      "cell_type": "code",
      "execution_count": null,
      "metadata": {
        "id": "wcPhJyxwGqlM"
      },
      "outputs": [],
      "source": [
        "llm = ChatGoogleGenerativeAI(model = \"models/gemini-1.5-flash-latest\", temperature =0.2)"
      ]
    },
    {
      "cell_type": "markdown",
      "metadata": {
        "id": "o07zbkLWcOVW"
      },
      "source": [
        "# STEP 3: Node to ask user for symptom"
      ]
    },
    {
      "cell_type": "code",
      "execution_count": null,
      "metadata": {
        "id": "1nZc6JI3Ihrp"
      },
      "outputs": [],
      "source": [
        "def get_symptom(state: dict) ->dict:\n",
        "  symptom = input(\"Welcome to XYZ hospital, Please enter your symptom\")\n",
        "  state[\"symptom\"] = symptom\n",
        "  return state"
      ]
    },
    {
      "cell_type": "markdown",
      "metadata": {
        "id": "0KIzyYPVcRVm"
      },
      "source": [
        "# STEP 4: Node to classify the symptom"
      ]
    },
    {
      "cell_type": "code",
      "execution_count": null,
      "metadata": {
        "id": "tC7QsNzfJX0D"
      },
      "outputs": [],
      "source": [
        "def classify_symptom(state: dict) -> dict:\n",
        "  prompt = (\n",
        "      \"You are a helpful Medical Assistant, Classify the symptoms below into one of the categories \\n\"\n",
        "      \"-General\\n -Emergency \\n -mental health \\n\"\n",
        "      f\"Symptom : {state['symptom']} \\n\"\n",
        "      \"Respond only with one word : General, Emergency Or Mental Health\"\n",
        "      \"#Example : input : I have fever, Output : General\"\n",
        "  )\n",
        "  response = llm.invoke([HumanMessage(content=prompt)])\n",
        "  category = response.content.strip()\n",
        "  print(f\"LLM classifies the symptom as : {category}\")  #debug\n",
        "  state[\"category\"] = category\n",
        "  return state"
      ]
    },
    {
      "cell_type": "markdown",
      "metadata": {
        "id": "kESmxbnicWpS"
      },
      "source": [
        "# STEP 5: Router logic to route to the correct node\n"
      ]
    },
    {
      "cell_type": "code",
      "execution_count": null,
      "metadata": {
        "id": "aw-5DRzINCyD"
      },
      "outputs": [],
      "source": [
        "def symptom_router(state:dict) -> dict:\n",
        "  cat = state[\"category\"].lower()   #General, general, Mental mental\n",
        "  if \"general\" in cat:\n",
        "    return\"general\"\n",
        "  elif \"emergency\" in cat:\n",
        "    return\"emergency\"\n",
        "  elif \"mental\" in cat:\n",
        "    return\"mental_health\"\n",
        "  else:\n",
        "    return\"general\""
      ]
    },
    {
      "cell_type": "markdown",
      "metadata": {
        "id": "cZuR4VGscake"
      },
      "source": [
        "# STEP 6: Category-specific response nodes\n"
      ]
    },
    {
      "cell_type": "code",
      "execution_count": null,
      "metadata": {
        "id": "cWwkdHfZOVW1"
      },
      "outputs": [],
      "source": [
        "def general_node(state: dict) -> dict:\n",
        "  state[\"answer\"] = f\" '{state['symptom']}' : seems general : directing you to general ward for consulting a doctor\"\n",
        "  return state\n",
        "\n",
        "def emergency_node(state:dict) -> dict:\n",
        "  state[\"answer\"] =f\" ' {state['symptom']}': It is a Medical Emergency : seeking immediate help\"\n",
        "  return state\n",
        "\n",
        "def mental_health_node(state: dict) -> dict:\n",
        "  state[\"answer\"] = f\" '{state['symptom']}: seems like a medical health issue: talk to our counsellor\"\n",
        "  return state"
      ]
    },
    {
      "cell_type": "markdown",
      "metadata": {
        "id": "I1ek0SwzcehS"
      },
      "source": [
        "# STEP 7: Build LangGraph\n"
      ]
    },
    {
      "cell_type": "code",
      "execution_count": null,
      "metadata": {
        "colab": {
          "base_uri": "https://localhost:8080/"
        },
        "id": "ipep16o4Ppuq",
        "outputId": "b1e27915-4b85-4dd7-8062-2311e573bce8"
      },
      "outputs": [],
      "source": [
        "builder = StateGraph(dict)\n",
        "\n",
        "#define the nodes\n",
        "builder.set_entry_point(\"get_symptom\")\n",
        "builder.add_node(\"get_symptom\", get_symptom)\n",
        "builder.add_node(\"classify\", classify_symptom)\n",
        "builder.add_node(\"general\", general_node)\n",
        "builder.add_node(\"emergency\", emergency_node)\n",
        "builder.add_node(\"mental_health\", mental_health_node)\n",
        "\n",
        "builder.add_edge(\"get_symptom\", \"classify\")\n",
        "builder.add_conditional_edges(\"classify\", symptom_router, {\n",
        "    \"general\": \"general\",\n",
        "    \"emergency\": \"emergency\",\n",
        "    \"mental_health\": \"mental_health\"\n",
        "})\n",
        "\n",
        "builder.add_edge(\"general\", END)\n",
        "builder.add_edge(\"emergency\", END)\n",
        "builder.add_edge(\"mental_health\", END)\n"
      ]
    },
    {
      "cell_type": "markdown",
      "metadata": {
        "id": "GbAgCeZYci5k"
      },
      "source": [
        "# STEP 8: Compile and invoke the graph\n"
      ]
    },
    {
      "cell_type": "code",
      "execution_count": null,
      "metadata": {
        "id": "JvNMukCNUDsY"
      },
      "outputs": [],
      "source": [
        "graph = builder.compile()\n"
      ]
    },
    {
      "cell_type": "code",
      "execution_count": null,
      "metadata": {
        "id": "PWqrClB6R-2a"
      },
      "outputs": [],
      "source": [
        "final_state = graph.invoke({})\n",
        "print(\"final Output \\n\")\n",
        "print(final_state[\"answer\"])\n"
      ]
    }
  ],
  "metadata": {
    "colab": {
      "provenance": []
    },
    "kernelspec": {
      "display_name": ".venv",
      "language": "python",
      "name": "python3"
    },
    "language_info": {
      "codemirror_mode": {
        "name": "ipython",
        "version": 3
      },
      "file_extension": ".py",
      "mimetype": "text/x-python",
      "name": "python",
      "nbconvert_exporter": "python",
      "pygments_lexer": "ipython3",
      "version": "3.13.5"
    }
  },
  "nbformat": 4,
  "nbformat_minor": 0
}
